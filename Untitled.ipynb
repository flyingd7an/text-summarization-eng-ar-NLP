{
 "cells": [
  {
   "cell_type": "code",
   "execution_count": 1,
   "id": "aab1f851",
   "metadata": {},
   "outputs": [
    {
     "name": "stderr",
     "output_type": "stream",
     "text": [
      "[nltk_data] Downloading package punkt to\n",
      "[nltk_data]     C:\\Users\\USER\\AppData\\Roaming\\nltk_data...\n",
      "[nltk_data]   Package punkt is already up-to-date!\n",
      "[nltk_data] Downloading package stopwords to\n",
      "[nltk_data]     C:\\Users\\USER\\AppData\\Roaming\\nltk_data...\n",
      "[nltk_data]   Package stopwords is already up-to-date!\n",
      "[nltk_data] Downloading package wordnet to\n",
      "[nltk_data]     C:\\Users\\USER\\AppData\\Roaming\\nltk_data...\n",
      "[nltk_data]   Package wordnet is already up-to-date!\n",
      "[nltk_data] Downloading package omw-1.4 to\n",
      "[nltk_data]     C:\\Users\\USER\\AppData\\Roaming\\nltk_data...\n",
      "[nltk_data]   Package omw-1.4 is already up-to-date!\n"
     ]
    }
   ],
   "source": [
    "import nltk\n",
    "nltk.download('punkt')\n",
    "nltk.download('stopwords')\n",
    "nltk.download('wordnet')\n",
    "nltk.download('omw-1.4')\n",
    "import re\n",
    "import heapq  \n",
    "import pickle\n",
    "import pandas as pd\n",
    "import numpy as np\n",
    "from string import punctuation\n",
    "from nltk.corpus import stopwords\n",
    "punctuation = punctuation + '\\n'\n",
    "from nltk.stem.isri import ISRIStemmer\n",
    "from nltk.tokenize import word_tokenize, sent_tokenize\n",
    "from sklearn.preprocessing import LabelEncoder\n",
    "from sklearn.model_selection import train_test_split\n",
    "from sklearn.feature_extraction.text import TfidfVectorizer\n",
    "from sklearn.ensemble import RandomForestClassifier\n",
    "from sklearn.metrics import accuracy_score\n",
    "from sklearn.linear_model import LogisticRegression\n",
    "from sklearn.neighbors import KNeighborsClassifier\n",
    "from sklearn.tree import DecisionTreeClassifier\n",
    "from sklearn.naive_bayes import GaussianNB\n",
    "from sklearn.linear_model import RidgeClassifier"
   ]
  },
  {
   "cell_type": "code",
   "execution_count": 2,
   "id": "5360940d",
   "metadata": {},
   "outputs": [],
   "source": [
    "categories = ['Economy & Business', 'Diverse News', 'Politic', 'Sport', 'Technology']"
   ]
  },
  {
   "cell_type": "code",
   "execution_count": 3,
   "id": "d38d1503",
   "metadata": {},
   "outputs": [],
   "source": [
    "def nltk_summarizer(input_text, number_of_sentence):\n",
    "    stopWords = set(nltk.corpus.stopwords.words(\"arabic\") + nltk.corpus.stopwords.words(\"english\"))\n",
    "    word_frequencies = {}  \n",
    "    for word in nltk.word_tokenize(input_text):  \n",
    "        if word not in stopWords:\n",
    "            if word not in punctuation:\n",
    "                if word not in word_frequencies.keys():\n",
    "                    word_frequencies[word] = 1\n",
    "                else:\n",
    "                    word_frequencies[word] += 1\n",
    "\n",
    "    maximum_frequncy = max(word_frequencies.values())\n",
    "\n",
    "    for word in word_frequencies.keys():  \n",
    "        word_frequencies[word] = (word_frequencies[word]/maximum_frequncy)\n",
    "\n",
    "    sentence_list = nltk.sent_tokenize(input_text)\n",
    "    sentence_scores = {}  \n",
    "    for sent in sentence_list:  \n",
    "        for word in nltk.word_tokenize(sent.lower()):\n",
    "            if word in word_frequencies.keys():\n",
    "                if len(sent.split(' ')) < 30:\n",
    "                    if sent not in sentence_scores.keys():\n",
    "                        sentence_scores[sent] = word_frequencies[word]\n",
    "                    else:\n",
    "                        sentence_scores[sent] += word_frequencies[word]\n",
    "\n",
    "    summary_sentences = heapq.nlargest(number_of_sentence, sentence_scores, key=sentence_scores.get)\n",
    "\n",
    "    summary = ' '.join(summary_sentences)  \n",
    "    return summary"
   ]
  },
  {
   "cell_type": "code",
   "execution_count": 4,
   "id": "6b2f381c",
   "metadata": {},
   "outputs": [
    {
     "data": {
      "text/html": [
       "<div>\n",
       "<style scoped>\n",
       "    .dataframe tbody tr th:only-of-type {\n",
       "        vertical-align: middle;\n",
       "    }\n",
       "\n",
       "    .dataframe tbody tr th {\n",
       "        vertical-align: top;\n",
       "    }\n",
       "\n",
       "    .dataframe thead th {\n",
       "        text-align: right;\n",
       "    }\n",
       "</style>\n",
       "<table border=\"1\" class=\"dataframe\">\n",
       "  <thead>\n",
       "    <tr style=\"text-align: right;\">\n",
       "      <th></th>\n",
       "      <th>ArticleId</th>\n",
       "      <th>Text</th>\n",
       "      <th>Category</th>\n",
       "    </tr>\n",
       "  </thead>\n",
       "  <tbody>\n",
       "    <tr>\n",
       "      <th>856</th>\n",
       "      <td>1027</td>\n",
       "      <td>newcastle 27-27 gloucester newcastle centre ma...</td>\n",
       "      <td>sport</td>\n",
       "    </tr>\n",
       "    <tr>\n",
       "      <th>1064</th>\n",
       "      <td>2075</td>\n",
       "      <td>apple sues  tiger  file sharers apple has take...</td>\n",
       "      <td>tech</td>\n",
       "    </tr>\n",
       "    <tr>\n",
       "      <th>339</th>\n",
       "      <td>739</td>\n",
       "      <td>us duo in first spam conviction a brother and ...</td>\n",
       "      <td>tech</td>\n",
       "    </tr>\n",
       "    <tr>\n",
       "      <th>17</th>\n",
       "      <td>486</td>\n",
       "      <td>hantuchova in dubai last eight daniela hantuch...</td>\n",
       "      <td>sport</td>\n",
       "    </tr>\n",
       "    <tr>\n",
       "      <th>483</th>\n",
       "      <td>47</td>\n",
       "      <td>jamieson issues warning to bigots scotland s j...</td>\n",
       "      <td>politics</td>\n",
       "    </tr>\n",
       "    <tr>\n",
       "      <th>901</th>\n",
       "      <td>241</td>\n",
       "      <td>retail sales show festive fervour uk retail sa...</td>\n",
       "      <td>economy &amp; business</td>\n",
       "    </tr>\n",
       "    <tr>\n",
       "      <th>215</th>\n",
       "      <td>761</td>\n",
       "      <td>kilroy-silk attacked with slurry euro mp rober...</td>\n",
       "      <td>politics</td>\n",
       "    </tr>\n",
       "    <tr>\n",
       "      <th>0</th>\n",
       "      <td>1833</td>\n",
       "      <td>worldcom ex-boss launches defence lawyers defe...</td>\n",
       "      <td>economy &amp; business</td>\n",
       "    </tr>\n",
       "    <tr>\n",
       "      <th>1343</th>\n",
       "      <td>1734</td>\n",
       "      <td>borders 19-20 ulster ulster clung on for a mor...</td>\n",
       "      <td>sport</td>\n",
       "    </tr>\n",
       "    <tr>\n",
       "      <th>855</th>\n",
       "      <td>1410</td>\n",
       "      <td>tsunami debt deal to be announced chancellor g...</td>\n",
       "      <td>politics</td>\n",
       "    </tr>\n",
       "  </tbody>\n",
       "</table>\n",
       "</div>"
      ],
      "text/plain": [
       "      ArticleId                                               Text  \\\n",
       "856        1027  newcastle 27-27 gloucester newcastle centre ma...   \n",
       "1064       2075  apple sues  tiger  file sharers apple has take...   \n",
       "339         739  us duo in first spam conviction a brother and ...   \n",
       "17          486  hantuchova in dubai last eight daniela hantuch...   \n",
       "483          47  jamieson issues warning to bigots scotland s j...   \n",
       "901         241  retail sales show festive fervour uk retail sa...   \n",
       "215         761  kilroy-silk attacked with slurry euro mp rober...   \n",
       "0          1833  worldcom ex-boss launches defence lawyers defe...   \n",
       "1343       1734  borders 19-20 ulster ulster clung on for a mor...   \n",
       "855        1410  tsunami debt deal to be announced chancellor g...   \n",
       "\n",
       "                Category  \n",
       "856                sport  \n",
       "1064                tech  \n",
       "339                 tech  \n",
       "17                 sport  \n",
       "483             politics  \n",
       "901   economy & business  \n",
       "215             politics  \n",
       "0     economy & business  \n",
       "1343               sport  \n",
       "855             politics  "
      ]
     },
     "execution_count": 4,
     "metadata": {},
     "output_type": "execute_result"
    }
   ],
   "source": [
    "en_data = pd.read_csv(r\"C:/Users/USER/Desktop/Text-Summarizer-and-Categorical-main/Text-Summarizer-and-Categorical-main/dataset/bbc_news_dataset.csv\")\n",
    "en_data = en_data.replace(\"entertainment\", \"diverse news\")\n",
    "en_data = en_data.replace(\"business\", \"economy & business\")\n",
    "\n",
    "ar_data = pd.read_csv(r\"C:/Users/USER/Desktop/Text-Summarizer-and-Categorical-main/Text-Summarizer-and-Categorical-main/dataset/arabic_dataset.csv\")\n",
    "ar_data = ar_data.replace(\"diverse\", \"diverse news\")\n",
    "ar_data = ar_data.replace(\"culture\", \"diverse news\")\n",
    "ar_data = ar_data.replace(\"politic\", \"politics\")\n",
    "ar_data = ar_data.replace(\"technology\", \"tech\")\n",
    "ar_data = ar_data.replace(\"economy\", \"economy & business\")\n",
    "ar_data = ar_data.replace(\"internationalNews\", \"politics\")\n",
    "ar_data = ar_data[~ar_data['type'].str.contains('localnews')]\n",
    "ar_data = ar_data[~ar_data['type'].str.contains('society')]\n",
    "en_data.sample(10)"
   ]
  },
  {
   "cell_type": "code",
   "execution_count": 5,
   "id": "4b4ebb7d",
   "metadata": {},
   "outputs": [
    {
     "data": {
      "text/html": [
       "<div>\n",
       "<style scoped>\n",
       "    .dataframe tbody tr th:only-of-type {\n",
       "        vertical-align: middle;\n",
       "    }\n",
       "\n",
       "    .dataframe tbody tr th {\n",
       "        vertical-align: top;\n",
       "    }\n",
       "\n",
       "    .dataframe thead th {\n",
       "        text-align: right;\n",
       "    }\n",
       "</style>\n",
       "<table border=\"1\" class=\"dataframe\">\n",
       "  <thead>\n",
       "    <tr style=\"text-align: right;\">\n",
       "      <th></th>\n",
       "      <th>Unnamed: 0</th>\n",
       "      <th>text</th>\n",
       "      <th>type</th>\n",
       "    </tr>\n",
       "  </thead>\n",
       "  <tbody>\n",
       "    <tr>\n",
       "      <th>3898</th>\n",
       "      <td>974</td>\n",
       "      <td>\\nعلمت راديو جوهرة أف أم من مصادرها الخاصة أن ...</td>\n",
       "      <td>sport</td>\n",
       "    </tr>\n",
       "    <tr>\n",
       "      <th>4142</th>\n",
       "      <td>1218</td>\n",
       "      <td>\\nقرر نجم كرة القدم الهولندية ماركو فان باستن ...</td>\n",
       "      <td>sport</td>\n",
       "    </tr>\n",
       "    <tr>\n",
       "      <th>826</th>\n",
       "      <td>227</td>\n",
       "      <td>\\nتم، الثلاثاء، التوقيع على عقد التفويت في الم...</td>\n",
       "      <td>economy &amp; business</td>\n",
       "    </tr>\n",
       "    <tr>\n",
       "      <th>373</th>\n",
       "      <td>249</td>\n",
       "      <td>\\nتمالكت مذيعة هندية نفسها وواصلت قراءة نشرة ا...</td>\n",
       "      <td>diverse news</td>\n",
       "    </tr>\n",
       "    <tr>\n",
       "      <th>2900</th>\n",
       "      <td>718</td>\n",
       "      <td>\\nتقدمت الكتلة الديمقراطية بمجلس نواب الشعب، ب...</td>\n",
       "      <td>politics</td>\n",
       "    </tr>\n",
       "    <tr>\n",
       "      <th>4188</th>\n",
       "      <td>1264</td>\n",
       "      <td>\\nيحتضن ملعب جرجيس اليوم بداية من الساعة 14:30...</td>\n",
       "      <td>sport</td>\n",
       "    </tr>\n",
       "    <tr>\n",
       "      <th>1976</th>\n",
       "      <td>1049</td>\n",
       "      <td>\\nأعاد الأخ غير الشقيق للرئيس الأمريكي السابق ...</td>\n",
       "      <td>politics</td>\n",
       "    </tr>\n",
       "    <tr>\n",
       "      <th>1559</th>\n",
       "      <td>632</td>\n",
       "      <td>\\nقال مسؤول قضائي اليوم الخميس إن الشرطة الفرن...</td>\n",
       "      <td>politics</td>\n",
       "    </tr>\n",
       "    <tr>\n",
       "      <th>2331</th>\n",
       "      <td>149</td>\n",
       "      <td>\\n تحدث رضا بلحاج، الممثل القانوني لحركة نداء ...</td>\n",
       "      <td>politics</td>\n",
       "    </tr>\n",
       "    <tr>\n",
       "      <th>4223</th>\n",
       "      <td>1299</td>\n",
       "      <td>\\nيحتضن ملعب حمام الأنف عشية اليوم مقابلة نصف ...</td>\n",
       "      <td>sport</td>\n",
       "    </tr>\n",
       "  </tbody>\n",
       "</table>\n",
       "</div>"
      ],
      "text/plain": [
       "      Unnamed: 0                                               text  \\\n",
       "3898         974  \\nعلمت راديو جوهرة أف أم من مصادرها الخاصة أن ...   \n",
       "4142        1218  \\nقرر نجم كرة القدم الهولندية ماركو فان باستن ...   \n",
       "826          227  \\nتم، الثلاثاء، التوقيع على عقد التفويت في الم...   \n",
       "373          249  \\nتمالكت مذيعة هندية نفسها وواصلت قراءة نشرة ا...   \n",
       "2900         718  \\nتقدمت الكتلة الديمقراطية بمجلس نواب الشعب، ب...   \n",
       "4188        1264  \\nيحتضن ملعب جرجيس اليوم بداية من الساعة 14:30...   \n",
       "1976        1049  \\nأعاد الأخ غير الشقيق للرئيس الأمريكي السابق ...   \n",
       "1559         632  \\nقال مسؤول قضائي اليوم الخميس إن الشرطة الفرن...   \n",
       "2331         149  \\n تحدث رضا بلحاج، الممثل القانوني لحركة نداء ...   \n",
       "4223        1299  \\nيحتضن ملعب حمام الأنف عشية اليوم مقابلة نصف ...   \n",
       "\n",
       "                    type  \n",
       "3898               sport  \n",
       "4142               sport  \n",
       "826   economy & business  \n",
       "373         diverse news  \n",
       "2900            politics  \n",
       "4188               sport  \n",
       "1976            politics  \n",
       "1559            politics  \n",
       "2331            politics  \n",
       "4223               sport  "
      ]
     },
     "execution_count": 5,
     "metadata": {},
     "output_type": "execute_result"
    }
   ],
   "source": [
    "ar_data.sample(10)"
   ]
  },
  {
   "cell_type": "code",
   "execution_count": 6,
   "id": "ae2b919f",
   "metadata": {},
   "outputs": [],
   "source": [
    "def delete_links(input_text):\n",
    "    pettern  = r'''(?i)\\b((?:https?://|www\\d{0,3}[.]|[a-z0-9.\\-]+[.][a-z]{2,4}/)(?:[^\\s()<>]+|\\(([^\\s()<>]+|(\\([^\\s()<>]+\\)))*\\))+(?:\\(([^\\s()<>]+|(\\([^\\s()<>]+\\)))*\\)|[^\\s`!()\\[\\]{};:'\".,<>?«»“”‘’]))'''\n",
    "    out_text = re.sub(pettern, ' ', input_text)\n",
    "    return out_text"
   ]
  },
  {
   "cell_type": "code",
   "execution_count": 7,
   "id": "5f7d3d14",
   "metadata": {},
   "outputs": [],
   "source": [
    "def delete_repeated_characters(input_text):\n",
    "    pattern  = r'(.)\\1{2,}'\n",
    "    out_text = re.sub(pattern, r\"\\1\\1\", input_text)\n",
    "    return out_text"
   ]
  },
  {
   "cell_type": "code",
   "execution_count": 8,
   "id": "d25f3e2d",
   "metadata": {},
   "outputs": [],
   "source": [
    "def replace_letters(input_text):\n",
    "    replace = {\"أ\": \"ا\",\"ة\": \"ه\",\"إ\": \"ا\",\"آ\": \"ا\",\"\": \"\"}\n",
    "    replace = dict((re.escape(k), v) for k, v in replace.items()) \n",
    "    pattern = re.compile(\"|\".join(replace.keys()))\n",
    "    out_text = pattern.sub(lambda m: replace[re.escape(m.group(0))], input_text)\n",
    "    return out_text"
   ]
  },
  {
   "cell_type": "code",
   "execution_count": 9,
   "id": "ef75633f",
   "metadata": {},
   "outputs": [],
   "source": [
    "def clean_text(input_text):\n",
    "    replace = r'[/(){}\\[\\]|@âÂ,;\\?\\'\\\"\\*…؟–’،!&\\+-:؛-]'\n",
    "    out_text = re.sub(replace, \" \", input_text)\n",
    "    words = nltk.word_tokenize(out_text)\n",
    "    words = [word for word in words if word.isalpha()]\n",
    "    out_text = ' '.join(words)\n",
    "    return out_text"
   ]
  },
  {
   "cell_type": "code",
   "execution_count": 10,
   "id": "8cbd5324",
   "metadata": {},
   "outputs": [],
   "source": [
    "def remove_vowelization(input_text):\n",
    "    vowelization = re.compile(\"\"\" ّ|َ|ً|ُ|ٌ|ِ|ٍ|ْ|ـ\"\"\", re.VERBOSE)\n",
    "    out_text = re.sub(vowelization, '', input_text)\n",
    "    return out_text"
   ]
  },
  {
   "cell_type": "code",
   "execution_count": 11,
   "id": "4ee205d0",
   "metadata": {},
   "outputs": [],
   "source": [
    "def delete_stopwords(input_text):\n",
    "    stop_words = set(nltk.corpus.stopwords.words(\"arabic\") + nltk.corpus.stopwords.words(\"english\"))\n",
    "    tokenizer = nltk.tokenize.WhitespaceTokenizer()\n",
    "    tokens = tokenizer.tokenize(input_text)\n",
    "    wnl = nltk.WordNetLemmatizer()\n",
    "    lemmatizedTokens =[wnl.lemmatize(t) for t in tokens]\n",
    "    out_text = [w for w in lemmatizedTokens if not w in stop_words]\n",
    "    out_text = ' '.join(out_text)\n",
    "    return out_text"
   ]
  },
  {
   "cell_type": "code",
   "execution_count": 12,
   "id": "c5c1ac71",
   "metadata": {},
   "outputs": [],
   "source": [
    "def stem_text(input_text):\n",
    "    st = ISRIStemmer()\n",
    "    tokenizer = nltk.tokenize.WhitespaceTokenizer()\n",
    "    tokens = tokenizer.tokenize(input_text)\n",
    "    out_text = [st.stem(w) for w in tokens]\n",
    "    out_text = ' '.join(out_text)\n",
    "    return out_text"
   ]
  },
  {
   "cell_type": "code",
   "execution_count": 13,
   "id": "fce95550",
   "metadata": {},
   "outputs": [],
   "source": [
    "def text_prepare(input_text, ar_text):\n",
    "    out_text = delete_links(input_text)\n",
    "    out_text = delete_repeated_characters(out_text)\n",
    "    out_text = clean_text(out_text)\n",
    "    out_text = delete_stopwords(out_text)\n",
    "    if ar_text:\n",
    "        out_text = replace_letters(out_text)\n",
    "        out_text = remove_vowelization(out_text)\n",
    "        out_text = stem_text(out_text)\n",
    "    else:\n",
    "        out_text = out_text.lower()\n",
    "    return out_text"
   ]
  },
  {
   "cell_type": "code",
   "execution_count": 14,
   "id": "e3ffa155",
   "metadata": {},
   "outputs": [
    {
     "data": {
      "text/html": [
       "<div>\n",
       "<style scoped>\n",
       "    .dataframe tbody tr th:only-of-type {\n",
       "        vertical-align: middle;\n",
       "    }\n",
       "\n",
       "    .dataframe tbody tr th {\n",
       "        vertical-align: top;\n",
       "    }\n",
       "\n",
       "    .dataframe thead th {\n",
       "        text-align: right;\n",
       "    }\n",
       "</style>\n",
       "<table border=\"1\" class=\"dataframe\">\n",
       "  <thead>\n",
       "    <tr style=\"text-align: right;\">\n",
       "      <th></th>\n",
       "      <th>ArticleId</th>\n",
       "      <th>Text</th>\n",
       "      <th>Category</th>\n",
       "      <th>Processed Text</th>\n",
       "    </tr>\n",
       "  </thead>\n",
       "  <tbody>\n",
       "    <tr>\n",
       "      <th>1167</th>\n",
       "      <td>1005</td>\n",
       "      <td>critics back aviator for oscars martin scorses...</td>\n",
       "      <td>diverse news</td>\n",
       "      <td>critic back aviator oscar martin scorsese avia...</td>\n",
       "    </tr>\n",
       "    <tr>\n",
       "      <th>491</th>\n",
       "      <td>2036</td>\n",
       "      <td>what now for kelly holmes  last april  kelly h...</td>\n",
       "      <td>sport</td>\n",
       "      <td>kelly holmes last april kelly holmes spoke bbc...</td>\n",
       "    </tr>\n",
       "    <tr>\n",
       "      <th>636</th>\n",
       "      <td>1049</td>\n",
       "      <td>de niro film leads us box office film star rob...</td>\n",
       "      <td>diverse news</td>\n",
       "      <td>de niro film lead u box office film star rober...</td>\n",
       "    </tr>\n",
       "    <tr>\n",
       "      <th>624</th>\n",
       "      <td>785</td>\n",
       "      <td>&amp;#163;1.8m indecency fine for viacom media gia...</td>\n",
       "      <td>diverse news</td>\n",
       "      <td>indecency fine viacom medium giant viacom ha p...</td>\n",
       "    </tr>\n",
       "    <tr>\n",
       "      <th>126</th>\n",
       "      <td>634</td>\n",
       "      <td>gallery unveils interactive tree a christmas t...</td>\n",
       "      <td>diverse news</td>\n",
       "      <td>gallery unveils interactive tree christmas tre...</td>\n",
       "    </tr>\n",
       "    <tr>\n",
       "      <th>238</th>\n",
       "      <td>485</td>\n",
       "      <td>lewis-francis eyeing world gold mark lewis-fra...</td>\n",
       "      <td>sport</td>\n",
       "      <td>lewis francis eyeing world gold mark lewis fra...</td>\n",
       "    </tr>\n",
       "    <tr>\n",
       "      <th>1170</th>\n",
       "      <td>566</td>\n",
       "      <td>howard attacks  pay later  budget tory leader ...</td>\n",
       "      <td>politics</td>\n",
       "      <td>howard attack pay later budget tory leader mic...</td>\n",
       "    </tr>\n",
       "    <tr>\n",
       "      <th>499</th>\n",
       "      <td>2131</td>\n",
       "      <td>ibm puts cash behind linux push ibm is spendin...</td>\n",
       "      <td>tech</td>\n",
       "      <td>ibm put cash behind linux push ibm spending ne...</td>\n",
       "    </tr>\n",
       "    <tr>\n",
       "      <th>941</th>\n",
       "      <td>2160</td>\n",
       "      <td>wal-mart is sued over rude lyrics the parents ...</td>\n",
       "      <td>diverse news</td>\n",
       "      <td>wal mart sued rude lyric parent year old girl ...</td>\n",
       "    </tr>\n",
       "    <tr>\n",
       "      <th>1026</th>\n",
       "      <td>905</td>\n",
       "      <td>marsh executive in guilty plea an executive at...</td>\n",
       "      <td>economy &amp; business</td>\n",
       "      <td>marsh executive guilty plea executive u insura...</td>\n",
       "    </tr>\n",
       "  </tbody>\n",
       "</table>\n",
       "</div>"
      ],
      "text/plain": [
       "      ArticleId                                               Text  \\\n",
       "1167       1005  critics back aviator for oscars martin scorses...   \n",
       "491        2036  what now for kelly holmes  last april  kelly h...   \n",
       "636        1049  de niro film leads us box office film star rob...   \n",
       "624         785  &#163;1.8m indecency fine for viacom media gia...   \n",
       "126         634  gallery unveils interactive tree a christmas t...   \n",
       "238         485  lewis-francis eyeing world gold mark lewis-fra...   \n",
       "1170        566  howard attacks  pay later  budget tory leader ...   \n",
       "499        2131  ibm puts cash behind linux push ibm is spendin...   \n",
       "941        2160  wal-mart is sued over rude lyrics the parents ...   \n",
       "1026        905  marsh executive in guilty plea an executive at...   \n",
       "\n",
       "                Category                                     Processed Text  \n",
       "1167        diverse news  critic back aviator oscar martin scorsese avia...  \n",
       "491                sport  kelly holmes last april kelly holmes spoke bbc...  \n",
       "636         diverse news  de niro film lead u box office film star rober...  \n",
       "624         diverse news  indecency fine viacom medium giant viacom ha p...  \n",
       "126         diverse news  gallery unveils interactive tree christmas tre...  \n",
       "238                sport  lewis francis eyeing world gold mark lewis fra...  \n",
       "1170            politics  howard attack pay later budget tory leader mic...  \n",
       "499                 tech  ibm put cash behind linux push ibm spending ne...  \n",
       "941         diverse news  wal mart sued rude lyric parent year old girl ...  \n",
       "1026  economy & business  marsh executive guilty plea executive u insura...  "
      ]
     },
     "execution_count": 14,
     "metadata": {},
     "output_type": "execute_result"
    }
   ],
   "source": [
    "en_data['Processed Text'] = en_data['Text'].apply(text_prepare, args=(False,))\n",
    "ar_data['Processed Text'] = ar_data['text'].apply(text_prepare, args=(True,))\n",
    "en_data.sample(10)"
   ]
  },
  {
   "cell_type": "code",
   "execution_count": 15,
   "id": "d6b2389c",
   "metadata": {},
   "outputs": [
    {
     "data": {
      "text/html": [
       "<div>\n",
       "<style scoped>\n",
       "    .dataframe tbody tr th:only-of-type {\n",
       "        vertical-align: middle;\n",
       "    }\n",
       "\n",
       "    .dataframe tbody tr th {\n",
       "        vertical-align: top;\n",
       "    }\n",
       "\n",
       "    .dataframe thead th {\n",
       "        text-align: right;\n",
       "    }\n",
       "</style>\n",
       "<table border=\"1\" class=\"dataframe\">\n",
       "  <thead>\n",
       "    <tr style=\"text-align: right;\">\n",
       "      <th></th>\n",
       "      <th>Unnamed: 0</th>\n",
       "      <th>text</th>\n",
       "      <th>type</th>\n",
       "      <th>Processed Text</th>\n",
       "    </tr>\n",
       "  </thead>\n",
       "  <tbody>\n",
       "    <tr>\n",
       "      <th>146</th>\n",
       "      <td>22</td>\n",
       "      <td>\\nقام أمريكي دونالند بيو يبلغ من العمر 45 عاما...</td>\n",
       "      <td>diverse news</td>\n",
       "      <td>امر دونالند بيو بلغ عمر عما طلب شرط دين ليمابو...</td>\n",
       "    </tr>\n",
       "    <tr>\n",
       "      <th>2150</th>\n",
       "      <td>1223</td>\n",
       "      <td>\\nانتقدت المتحدثة باسم الخارجية الأمريكية خلال...</td>\n",
       "      <td>politics</td>\n",
       "      <td>نقد تحدث بسم خرج امر خلل ؤمر صحف عقد خمس عبر د...</td>\n",
       "    </tr>\n",
       "    <tr>\n",
       "      <th>4186</th>\n",
       "      <td>1262</td>\n",
       "      <td>\\nتمكن مانشستر سيتي اليوم الثلاثاء من تحقيق فو...</td>\n",
       "      <td>sport</td>\n",
       "      <td>تمك مانشستر سيت اليوم ثلاثاء حقق فوز هما ثير م...</td>\n",
       "    </tr>\n",
       "    <tr>\n",
       "      <th>935</th>\n",
       "      <td>8</td>\n",
       "      <td>\\nأعلنت السلطات الإيطالية أمس الأحد 8 نوفمبر 2...</td>\n",
       "      <td>politics</td>\n",
       "      <td>اعل سلط يطل احد عقل قيد ونس نظم دعش رهب سعى دخ...</td>\n",
       "    </tr>\n",
       "    <tr>\n",
       "      <th>3979</th>\n",
       "      <td>1055</td>\n",
       "      <td>\\nتأهلت لاعبة التنس التونسية انس جابر المصنفة ...</td>\n",
       "      <td>sport</td>\n",
       "      <td>تهل لعب تنس ونس انس جبر صنف علم الى ثمن نهي دو...</td>\n",
       "    </tr>\n",
       "    <tr>\n",
       "      <th>1422</th>\n",
       "      <td>495</td>\n",
       "      <td>\\nقال الإعلامي في قناة \"فرانس 24\" توفيق مجيّد ...</td>\n",
       "      <td>politics</td>\n",
       "      <td>قال علم قنه رنس وفق رشح نخب رنس ايمانويل اكر ق...</td>\n",
       "    </tr>\n",
       "    <tr>\n",
       "      <th>681</th>\n",
       "      <td>82</td>\n",
       "      <td>\\nقالت كاهية مدير وحدة البرمجة والتنسيق والصلح...</td>\n",
       "      <td>economy &amp; business</td>\n",
       "      <td>قلت كهي دير وحد رمج نسق صلح دري دره عمه ادء نج...</td>\n",
       "    </tr>\n",
       "    <tr>\n",
       "      <th>870</th>\n",
       "      <td>271</td>\n",
       "      <td>\\nقال الخبير الاقتصادي معز الجودي إن انهيار ال...</td>\n",
       "      <td>economy &amp; business</td>\n",
       "      <td>قال خبر قصد معز جود هير دينار ونس وصل خلل ايم ...</td>\n",
       "    </tr>\n",
       "    <tr>\n",
       "      <th>1805</th>\n",
       "      <td>878</td>\n",
       "      <td>\\n أعلنت وزارة الدفاع الجزائرية في بلاغ لها أن...</td>\n",
       "      <td>politics</td>\n",
       "      <td>اعل وزر دفع جزر بلغ انه تم احد عثر غام قلد صنع...</td>\n",
       "    </tr>\n",
       "    <tr>\n",
       "      <th>3129</th>\n",
       "      <td>205</td>\n",
       "      <td>\\nسافر عشية اليوم وفد المنتخب المنتخب الوطني ل...</td>\n",
       "      <td>sport</td>\n",
       "      <td>سفر عشه اليوم وفد نخب نخب وطن تايوندكو كور جنب...</td>\n",
       "    </tr>\n",
       "  </tbody>\n",
       "</table>\n",
       "</div>"
      ],
      "text/plain": [
       "      Unnamed: 0                                               text  \\\n",
       "146           22  \\nقام أمريكي دونالند بيو يبلغ من العمر 45 عاما...   \n",
       "2150        1223  \\nانتقدت المتحدثة باسم الخارجية الأمريكية خلال...   \n",
       "4186        1262  \\nتمكن مانشستر سيتي اليوم الثلاثاء من تحقيق فو...   \n",
       "935            8  \\nأعلنت السلطات الإيطالية أمس الأحد 8 نوفمبر 2...   \n",
       "3979        1055  \\nتأهلت لاعبة التنس التونسية انس جابر المصنفة ...   \n",
       "1422         495  \\nقال الإعلامي في قناة \"فرانس 24\" توفيق مجيّد ...   \n",
       "681           82  \\nقالت كاهية مدير وحدة البرمجة والتنسيق والصلح...   \n",
       "870          271  \\nقال الخبير الاقتصادي معز الجودي إن انهيار ال...   \n",
       "1805         878  \\n أعلنت وزارة الدفاع الجزائرية في بلاغ لها أن...   \n",
       "3129         205  \\nسافر عشية اليوم وفد المنتخب المنتخب الوطني ل...   \n",
       "\n",
       "                    type                                     Processed Text  \n",
       "146         diverse news  امر دونالند بيو بلغ عمر عما طلب شرط دين ليمابو...  \n",
       "2150            politics  نقد تحدث بسم خرج امر خلل ؤمر صحف عقد خمس عبر د...  \n",
       "4186               sport  تمك مانشستر سيت اليوم ثلاثاء حقق فوز هما ثير م...  \n",
       "935             politics  اعل سلط يطل احد عقل قيد ونس نظم دعش رهب سعى دخ...  \n",
       "3979               sport  تهل لعب تنس ونس انس جبر صنف علم الى ثمن نهي دو...  \n",
       "1422            politics  قال علم قنه رنس وفق رشح نخب رنس ايمانويل اكر ق...  \n",
       "681   economy & business  قلت كهي دير وحد رمج نسق صلح دري دره عمه ادء نج...  \n",
       "870   economy & business  قال خبر قصد معز جود هير دينار ونس وصل خلل ايم ...  \n",
       "1805            politics  اعل وزر دفع جزر بلغ انه تم احد عثر غام قلد صنع...  \n",
       "3129               sport  سفر عشه اليوم وفد نخب نخب وطن تايوندكو كور جنب...  "
      ]
     },
     "execution_count": 15,
     "metadata": {},
     "output_type": "execute_result"
    }
   ],
   "source": [
    "ar_data.sample(10)"
   ]
  },
  {
   "cell_type": "code",
   "execution_count": 16,
   "id": "9518c4e9",
   "metadata": {},
   "outputs": [
    {
     "data": {
      "text/html": [
       "<div>\n",
       "<style scoped>\n",
       "    .dataframe tbody tr th:only-of-type {\n",
       "        vertical-align: middle;\n",
       "    }\n",
       "\n",
       "    .dataframe tbody tr th {\n",
       "        vertical-align: top;\n",
       "    }\n",
       "\n",
       "    .dataframe thead th {\n",
       "        text-align: right;\n",
       "    }\n",
       "</style>\n",
       "<table border=\"1\" class=\"dataframe\">\n",
       "  <thead>\n",
       "    <tr style=\"text-align: right;\">\n",
       "      <th></th>\n",
       "      <th>ArticleId</th>\n",
       "      <th>Text</th>\n",
       "      <th>Category</th>\n",
       "      <th>Processed Text</th>\n",
       "      <th>Category Encoded</th>\n",
       "    </tr>\n",
       "  </thead>\n",
       "  <tbody>\n",
       "    <tr>\n",
       "      <th>1300</th>\n",
       "      <td>916</td>\n",
       "      <td>highbury tunnel players in clear the football ...</td>\n",
       "      <td>sport</td>\n",
       "      <td>highbury tunnel player clear football associat...</td>\n",
       "      <td>3</td>\n",
       "    </tr>\n",
       "    <tr>\n",
       "      <th>1270</th>\n",
       "      <td>1495</td>\n",
       "      <td>brit awards for devon music acts devon singer ...</td>\n",
       "      <td>diverse news</td>\n",
       "      <td>brit award devon music act devon singer joss s...</td>\n",
       "      <td>0</td>\n",
       "    </tr>\n",
       "    <tr>\n",
       "      <th>1480</th>\n",
       "      <td>1124</td>\n",
       "      <td>qantas sees profits fly to record australian a...</td>\n",
       "      <td>economy &amp; business</td>\n",
       "      <td>qantas see profit fly record australian airlin...</td>\n",
       "      <td>1</td>\n",
       "    </tr>\n",
       "    <tr>\n",
       "      <th>687</th>\n",
       "      <td>1817</td>\n",
       "      <td>blair and blunkett sheffield trip tony blair i...</td>\n",
       "      <td>politics</td>\n",
       "      <td>blair blunkett sheffield trip tony blair join ...</td>\n",
       "      <td>2</td>\n",
       "    </tr>\n",
       "    <tr>\n",
       "      <th>1092</th>\n",
       "      <td>2063</td>\n",
       "      <td>will the budget bring out smiling voters  as t...</td>\n",
       "      <td>politics</td>\n",
       "      <td>budget bring smiling voter tory spokesman oliv...</td>\n",
       "      <td>2</td>\n",
       "    </tr>\n",
       "    <tr>\n",
       "      <th>1098</th>\n",
       "      <td>834</td>\n",
       "      <td>wenger offers mutu hope arsenal boss arsene we...</td>\n",
       "      <td>sport</td>\n",
       "      <td>wenger offer mutu hope arsenal bos arsene weng...</td>\n",
       "      <td>3</td>\n",
       "    </tr>\n",
       "    <tr>\n",
       "      <th>697</th>\n",
       "      <td>879</td>\n",
       "      <td>slow start to speedy net services faster broad...</td>\n",
       "      <td>tech</td>\n",
       "      <td>slow start speedy net service faster broadband...</td>\n",
       "      <td>4</td>\n",
       "    </tr>\n",
       "    <tr>\n",
       "      <th>1123</th>\n",
       "      <td>478</td>\n",
       "      <td>britons fed up with net service a survey condu...</td>\n",
       "      <td>tech</td>\n",
       "      <td>briton fed net service survey conducted pc pro...</td>\n",
       "      <td>4</td>\n",
       "    </tr>\n",
       "    <tr>\n",
       "      <th>630</th>\n",
       "      <td>1226</td>\n",
       "      <td>millions  to lose textile jobs  millions of th...</td>\n",
       "      <td>economy &amp; business</td>\n",
       "      <td>million lose textile job million world poorest...</td>\n",
       "      <td>1</td>\n",
       "    </tr>\n",
       "    <tr>\n",
       "      <th>1417</th>\n",
       "      <td>192</td>\n",
       "      <td>the  ticking budget  facing the us the budget ...</td>\n",
       "      <td>economy &amp; business</td>\n",
       "      <td>ticking budget facing u budget proposal laid a...</td>\n",
       "      <td>1</td>\n",
       "    </tr>\n",
       "  </tbody>\n",
       "</table>\n",
       "</div>"
      ],
      "text/plain": [
       "      ArticleId                                               Text  \\\n",
       "1300        916  highbury tunnel players in clear the football ...   \n",
       "1270       1495  brit awards for devon music acts devon singer ...   \n",
       "1480       1124  qantas sees profits fly to record australian a...   \n",
       "687        1817  blair and blunkett sheffield trip tony blair i...   \n",
       "1092       2063  will the budget bring out smiling voters  as t...   \n",
       "1098        834  wenger offers mutu hope arsenal boss arsene we...   \n",
       "697         879  slow start to speedy net services faster broad...   \n",
       "1123        478  britons fed up with net service a survey condu...   \n",
       "630        1226  millions  to lose textile jobs  millions of th...   \n",
       "1417        192  the  ticking budget  facing the us the budget ...   \n",
       "\n",
       "                Category                                     Processed Text  \\\n",
       "1300               sport  highbury tunnel player clear football associat...   \n",
       "1270        diverse news  brit award devon music act devon singer joss s...   \n",
       "1480  economy & business  qantas see profit fly record australian airlin...   \n",
       "687             politics  blair blunkett sheffield trip tony blair join ...   \n",
       "1092            politics  budget bring smiling voter tory spokesman oliv...   \n",
       "1098               sport  wenger offer mutu hope arsenal bos arsene weng...   \n",
       "697                 tech  slow start speedy net service faster broadband...   \n",
       "1123                tech  briton fed net service survey conducted pc pro...   \n",
       "630   economy & business  million lose textile job million world poorest...   \n",
       "1417  economy & business  ticking budget facing u budget proposal laid a...   \n",
       "\n",
       "      Category Encoded  \n",
       "1300                 3  \n",
       "1270                 0  \n",
       "1480                 1  \n",
       "687                  2  \n",
       "1092                 2  \n",
       "1098                 3  \n",
       "697                  4  \n",
       "1123                 4  \n",
       "630                  1  \n",
       "1417                 1  "
      ]
     },
     "execution_count": 16,
     "metadata": {},
     "output_type": "execute_result"
    }
   ],
   "source": [
    "en_label_encoder = LabelEncoder()\n",
    "en_data['Category Encoded'] = en_label_encoder.fit_transform(en_data['Category'])\n",
    "\n",
    "ar_label_encoder = LabelEncoder()\n",
    "ar_data['Category Encoded'] = ar_label_encoder.fit_transform(ar_data['type'])\n",
    "ar_data['Category Encoded'] = ar_data['Category Encoded'].replace(1, 0)\n",
    "ar_data['Category Encoded'] = ar_data['Category Encoded'].replace(0, 1)\n",
    "\n",
    "en_data.sample(10)"
   ]
  },
  {
   "cell_type": "code",
   "execution_count": 17,
   "id": "c5dc7550",
   "metadata": {},
   "outputs": [
    {
     "data": {
      "text/html": [
       "<div>\n",
       "<style scoped>\n",
       "    .dataframe tbody tr th:only-of-type {\n",
       "        vertical-align: middle;\n",
       "    }\n",
       "\n",
       "    .dataframe tbody tr th {\n",
       "        vertical-align: top;\n",
       "    }\n",
       "\n",
       "    .dataframe thead th {\n",
       "        text-align: right;\n",
       "    }\n",
       "</style>\n",
       "<table border=\"1\" class=\"dataframe\">\n",
       "  <thead>\n",
       "    <tr style=\"text-align: right;\">\n",
       "      <th></th>\n",
       "      <th>Unnamed: 0</th>\n",
       "      <th>text</th>\n",
       "      <th>type</th>\n",
       "      <th>Processed Text</th>\n",
       "      <th>Category Encoded</th>\n",
       "    </tr>\n",
       "  </thead>\n",
       "  <tbody>\n",
       "    <tr>\n",
       "      <th>269</th>\n",
       "      <td>145</td>\n",
       "      <td>\\nأمضى مغني الراب كايني ويست زوج نجمة تليفزيون...</td>\n",
       "      <td>diverse news</td>\n",
       "      <td>مضى غني راب كاي ويس زوج نجم يفز وقع كيم كاردش ...</td>\n",
       "      <td>1</td>\n",
       "    </tr>\n",
       "    <tr>\n",
       "      <th>3370</th>\n",
       "      <td>446</td>\n",
       "      <td>\\nاعلنت الرابطة الوطنية عن موعد المباريات المت...</td>\n",
       "      <td>sport</td>\n",
       "      <td>اعل ربط وطن وعد بري تخر نسب جول ثني ايب بطل رب...</td>\n",
       "      <td>3</td>\n",
       "    </tr>\n",
       "    <tr>\n",
       "      <th>2692</th>\n",
       "      <td>510</td>\n",
       "      <td>\\nوصفت القيادية بالحزب الجمهوري مية الجريبي ال...</td>\n",
       "      <td>politics</td>\n",
       "      <td>وصف قيد حزب جمهور ميه جرب اليوم سبت وضع جمع ون...</td>\n",
       "      <td>2</td>\n",
       "    </tr>\n",
       "    <tr>\n",
       "      <th>3050</th>\n",
       "      <td>126</td>\n",
       "      <td>\\nأعلن رئيس الاتحاد السعودي لكرة القدم، عادل ع...</td>\n",
       "      <td>sport</td>\n",
       "      <td>اعل رئس تحد سعد لكر قدم عدل عزت بدء جرب قنه يد...</td>\n",
       "      <td>3</td>\n",
       "    </tr>\n",
       "    <tr>\n",
       "      <th>590</th>\n",
       "      <td>466</td>\n",
       "      <td>\\nكشفت دراسة نشرتها صحيفة \"ذا صن\" البريطانية  ...</td>\n",
       "      <td>diverse news</td>\n",
       "      <td>كشف درس نشر صحف صن بريطانيه قرص نرن وسع شطت سو...</td>\n",
       "      <td>1</td>\n",
       "    </tr>\n",
       "    <tr>\n",
       "      <th>3929</th>\n",
       "      <td>1005</td>\n",
       "      <td>\\nنشرت الصفحة الخاصة بفريق العهد اللبناني مقطع...</td>\n",
       "      <td>sport</td>\n",
       "      <td>نشر صفح خصه فرق عهد لبن قطع يدو اعب ونس وسف وي...</td>\n",
       "      <td>3</td>\n",
       "    </tr>\n",
       "    <tr>\n",
       "      <th>3913</th>\n",
       "      <td>989</td>\n",
       "      <td>\\nأمضت شركة \"Land d'or\" اليوم إتفاقية شراكة جه...</td>\n",
       "      <td>sport</td>\n",
       "      <td>امض شرك Land اليوم تفق شرك جهي فرق رشلو اسب مت...</td>\n",
       "      <td>3</td>\n",
       "    </tr>\n",
       "    <tr>\n",
       "      <th>2146</th>\n",
       "      <td>1219</td>\n",
       "      <td>\\nأفادت الوكالة الفرنسية للإعلام أنّ برلمان كا...</td>\n",
       "      <td>politics</td>\n",
       "      <td>فدت وكل رنس علم رلم كاتالو اليوم اثن قلل سبن</td>\n",
       "      <td>2</td>\n",
       "    </tr>\n",
       "    <tr>\n",
       "      <th>2300</th>\n",
       "      <td>118</td>\n",
       "      <td>\\nوصفت النائبة عن حزب نداء تونس، هالة عمران ما...</td>\n",
       "      <td>politics</td>\n",
       "      <td>وصف نئب حزب ندء ونس هله عمر يقم رئس حزب زيتو ع...</td>\n",
       "      <td>2</td>\n",
       "    </tr>\n",
       "    <tr>\n",
       "      <th>2797</th>\n",
       "      <td>615</td>\n",
       "      <td>\\nدعت أحزاب المبادرة الوطنية الدستورية، والدست...</td>\n",
       "      <td>politics</td>\n",
       "      <td>دعت حزب بدر وطن دستور دستور لحر وحر شرع ونس بي...</td>\n",
       "      <td>2</td>\n",
       "    </tr>\n",
       "  </tbody>\n",
       "</table>\n",
       "</div>"
      ],
      "text/plain": [
       "      Unnamed: 0                                               text  \\\n",
       "269          145  \\nأمضى مغني الراب كايني ويست زوج نجمة تليفزيون...   \n",
       "3370         446  \\nاعلنت الرابطة الوطنية عن موعد المباريات المت...   \n",
       "2692         510  \\nوصفت القيادية بالحزب الجمهوري مية الجريبي ال...   \n",
       "3050         126  \\nأعلن رئيس الاتحاد السعودي لكرة القدم، عادل ع...   \n",
       "590          466  \\nكشفت دراسة نشرتها صحيفة \"ذا صن\" البريطانية  ...   \n",
       "3929        1005  \\nنشرت الصفحة الخاصة بفريق العهد اللبناني مقطع...   \n",
       "3913         989  \\nأمضت شركة \"Land d'or\" اليوم إتفاقية شراكة جه...   \n",
       "2146        1219  \\nأفادت الوكالة الفرنسية للإعلام أنّ برلمان كا...   \n",
       "2300         118  \\nوصفت النائبة عن حزب نداء تونس، هالة عمران ما...   \n",
       "2797         615  \\nدعت أحزاب المبادرة الوطنية الدستورية، والدست...   \n",
       "\n",
       "              type                                     Processed Text  \\\n",
       "269   diverse news  مضى غني راب كاي ويس زوج نجم يفز وقع كيم كاردش ...   \n",
       "3370         sport  اعل ربط وطن وعد بري تخر نسب جول ثني ايب بطل رب...   \n",
       "2692      politics  وصف قيد حزب جمهور ميه جرب اليوم سبت وضع جمع ون...   \n",
       "3050         sport  اعل رئس تحد سعد لكر قدم عدل عزت بدء جرب قنه يد...   \n",
       "590   diverse news  كشف درس نشر صحف صن بريطانيه قرص نرن وسع شطت سو...   \n",
       "3929         sport  نشر صفح خصه فرق عهد لبن قطع يدو اعب ونس وسف وي...   \n",
       "3913         sport  امض شرك Land اليوم تفق شرك جهي فرق رشلو اسب مت...   \n",
       "2146      politics       فدت وكل رنس علم رلم كاتالو اليوم اثن قلل سبن   \n",
       "2300      politics  وصف نئب حزب ندء ونس هله عمر يقم رئس حزب زيتو ع...   \n",
       "2797      politics  دعت حزب بدر وطن دستور دستور لحر وحر شرع ونس بي...   \n",
       "\n",
       "      Category Encoded  \n",
       "269                  1  \n",
       "3370                 3  \n",
       "2692                 2  \n",
       "3050                 3  \n",
       "590                  1  \n",
       "3929                 3  \n",
       "3913                 3  \n",
       "2146                 2  \n",
       "2300                 2  \n",
       "2797                 2  "
      ]
     },
     "execution_count": 17,
     "metadata": {},
     "output_type": "execute_result"
    }
   ],
   "source": [
    "ar_data.sample(10)"
   ]
  },
  {
   "cell_type": "code",
   "execution_count": 18,
   "id": "22d76157",
   "metadata": {},
   "outputs": [],
   "source": [
    "en_X_train, en_X_test, en_y_train, en_y_test = train_test_split(en_data['Processed Text'], en_data['Category Encoded'], test_size=0.2, random_state=0)\n",
    "ar_X_train, ar_X_test, ar_y_train, ar_y_test = train_test_split(ar_data['Processed Text'], ar_data['Category Encoded'], test_size=0.2, random_state=0)"
   ]
  },
  {
   "cell_type": "code",
   "execution_count": 19,
   "id": "379cfc66",
   "metadata": {},
   "outputs": [],
   "source": [
    "def tfidf_features(X_train, X_test, ngram_range):\n",
    "    tfidf_vectorizer = TfidfVectorizer(min_df=2, max_df=0.5, ngram_range=(1, ngram_range))\n",
    "    X_train = tfidf_vectorizer.fit_transform(X_train)\n",
    "    X_test = tfidf_vectorizer.transform(X_test)\n",
    "    return X_train, X_test"
   ]
  },
  {
   "cell_type": "code",
   "execution_count": 20,
   "id": "55a43eba",
   "metadata": {},
   "outputs": [],
   "source": [
    "en_features_train, en_features_test = tfidf_features(en_X_train, en_X_test, 2)"
   ]
  },
  {
   "cell_type": "code",
   "execution_count": 21,
   "id": "fb18f471",
   "metadata": {},
   "outputs": [],
   "source": [
    "ar_features_train, ar_features_test = tfidf_features(ar_X_train, ar_X_test, 2)"
   ]
  },
  {
   "cell_type": "code",
   "execution_count": 22,
   "id": "74eb395a",
   "metadata": {},
   "outputs": [],
   "source": [
    "def fit_model(model_name, ar_text=False):\n",
    "    if model_name == 'ridge_model':\n",
    "        model_name = RidgeClassifier()\n",
    "    elif model_name == 'random_forest_model':\n",
    "        model_name = RandomForestClassifier()\n",
    "    elif model_name == 'logistic_regression_model':\n",
    "        model_name = LogisticRegression()\n",
    "    elif model_name == 'kneighbors_model':\n",
    "        model_name = KNeighborsClassifier()\n",
    "    elif model_name == 'decision_tree_model':\n",
    "        model_name = DecisionTreeClassifier()\n",
    "    elif model_name == 'gaussian_nb_model':\n",
    "        model_name = GaussianNB()\n",
    "    if ar_text:\n",
    "        model_name.fit(ar_features_train.toarray(), ar_y_train)\n",
    "        model_predictions = model_name.predict(ar_features_test.toarray())\n",
    "        print(\"Accuracy on test: \", accuracy_score(ar_y_test, model_predictions))\n",
    "    else:\n",
    "        model_name.fit(en_features_train.toarray(), en_y_train)\n",
    "        model_predictions = model_name.predict(en_features_test.toarray())\n",
    "        print(\"Accuracy on test: \", accuracy_score(en_y_test, model_predictions))\n",
    "    return model_name"
   ]
  },
  {
   "cell_type": "code",
   "execution_count": 23,
   "id": "656bbdad",
   "metadata": {},
   "outputs": [],
   "source": [
    "def summerize_category(input_text, statements, model_name, ar_text=False):\n",
    "    summary_text = nltk_summarizer(input_text, statements)\n",
    "    print(\"-------------------------------------------------------------------------------------------------------------------------------\")\n",
    "    print(\"Text summary\")\n",
    "    print(\"-------------------------------------------------------------------------------------------------------------------------------\")\n",
    "    print(summary_text)\n",
    "    print(\"-------------------------------------------------------------------------------------------------------------------------------\")\n",
    "    input_text_arr = [text_prepare(input_text, ar_text)]\n",
    "    if ar_text:\n",
    "        features_train, features_test = tfidf_features(ar_X_train, input_text_arr, 2)\n",
    "    else:\n",
    "        features_train, features_test = tfidf_features(en_X_train, input_text_arr, 2)\n",
    "    text_predection = model_name.predict(features_test.toarray())\n",
    "    print(\"Text category:\", categories[text_predection[0]])\n",
    "    print(\"-------------------------------------------------------------------------------------------------------------------------------\")"
   ]
  },
  {
   "cell_type": "code",
   "execution_count": 24,
   "id": "f59e0f8d",
   "metadata": {},
   "outputs": [
    {
     "name": "stdout",
     "output_type": "stream",
     "text": [
      "Accuracy on test:  0.9832214765100671\n"
     ]
    }
   ],
   "source": [
    "en_ridge_model = fit_model('ridge_model')\n",
    "pickle.dump(en_ridge_model, open('en_ridge_model.pkl','wb'))"
   ]
  },
  {
   "cell_type": "code",
   "execution_count": 25,
   "id": "0a240e97",
   "metadata": {},
   "outputs": [
    {
     "name": "stdout",
     "output_type": "stream",
     "text": [
      "Accuracy on test:  0.9496644295302014\n"
     ]
    }
   ],
   "source": [
    "en_random_forest_model = fit_model('random_forest_model')\n",
    "pickle.dump(en_random_forest_model, open('en_random_forest_model.pkl','wb'))"
   ]
  },
  {
   "cell_type": "code",
   "execution_count": 26,
   "id": "18708564",
   "metadata": {},
   "outputs": [
    {
     "name": "stdout",
     "output_type": "stream",
     "text": [
      "Accuracy on test:  0.9899328859060402\n"
     ]
    }
   ],
   "source": [
    "en_logistic_regression_model = fit_model('logistic_regression_model')\n",
    "pickle.dump(en_logistic_regression_model, open('en_logistic_regression_model.pkl','wb'))"
   ]
  },
  {
   "cell_type": "code",
   "execution_count": 27,
   "id": "47e595ce",
   "metadata": {},
   "outputs": [
    {
     "name": "stdout",
     "output_type": "stream",
     "text": [
      "Accuracy on test:  0.959731543624161\n"
     ]
    }
   ],
   "source": [
    "en_kneighbors_model = fit_model('kneighbors_model')\n",
    "pickle.dump(en_kneighbors_model, open('en_kneighbors_model.pkl','wb'))"
   ]
  },
  {
   "cell_type": "code",
   "execution_count": 28,
   "id": "92f5e4fc",
   "metadata": {},
   "outputs": [
    {
     "name": "stdout",
     "output_type": "stream",
     "text": [
      "Accuracy on test:  0.8691275167785235\n"
     ]
    }
   ],
   "source": [
    "en_decision_tree_model = fit_model('decision_tree_model')\n",
    "pickle.dump(en_decision_tree_model, open('en_decision_tree_model.pkl','wb'))"
   ]
  },
  {
   "cell_type": "code",
   "execution_count": 29,
   "id": "7ef401f2",
   "metadata": {},
   "outputs": [
    {
     "name": "stdout",
     "output_type": "stream",
     "text": [
      "Accuracy on test:  0.9463087248322147\n"
     ]
    }
   ],
   "source": [
    "en_gaussian_nb_model = fit_model('gaussian_nb_model')\n",
    "pickle.dump(en_gaussian_nb_model, open('en_gaussian_nb_model.pkl','wb'))"
   ]
  },
  {
   "cell_type": "code",
   "execution_count": 30,
   "id": "e7d28a69",
   "metadata": {},
   "outputs": [],
   "source": [
    "test_1 = \"The abstract will talk about the company Redbull, which is an international drink company that is widely known for its vitalizing energy drinks. One of Red bull’smany priorities is to enhance its digital presence , creating interesting content, using social media efficiently , and delving in e commerce. Chapter sixteen was involved in this paper , it involves (personal selling), and showing how important personal selling is in marketing communications. The use of this chapter is supported by the company’s marketing strategy. In Red bull’s marketing strategy personal selling is very vital in creating relationships with the customer , illustrating the brand’s image and values, and increasing sales. Personal selling is also justified by the AIDA model , social exchange theory and relationship marketing. These ideas offer insights into how customers make decisions, develop relationships, and exchange value with brands. These theories can help a company create marketing strategies efficiently. The AIDA model enables a thorough comprehension of how personal selling aids customers as they progress through the phases of decisionmaking. While the social exchange theory describes the reasons and dynamics underlying personal selling, relationship marketing offers insights into creating and maintaining long-term client connections. Applying these ideas will enable marketers to build plans that are in line with customer behaviorand preferences and, as a result, improve marketing execution. \""
   ]
  },
  {
   "cell_type": "code",
   "execution_count": 31,
   "id": "5a0cb35e",
   "metadata": {},
   "outputs": [
    {
     "name": "stdout",
     "output_type": "stream",
     "text": [
      "-------------------------------------------------------------------------------------------------------------------------------\n",
      "Text summary\n",
      "-------------------------------------------------------------------------------------------------------------------------------\n",
      "In Red bull’s marketing strategy personal selling is very vital in creating relationships with the customer , illustrating the brand’s image and values, and increasing sales. While the social exchange theory describes the reasons and dynamics underlying personal selling, relationship marketing offers insights into creating and maintaining long-term client connections. Chapter sixteen was involved in this paper , it involves (personal selling), and showing how important personal selling is in marketing communications. Personal selling is also justified by the AIDA model , social exchange theory and relationship marketing. One of Red bull’smany priorities is to enhance its digital presence , creating interesting content, using social media efficiently , and delving in e commerce. The AIDA model enables a thorough comprehension of how personal selling aids customers as they progress through the phases of decisionmaking. Applying these ideas will enable marketers to build plans that are in line with customer behaviorand preferences and, as a result, improve marketing execution. The use of this chapter is supported by the company’s marketing strategy. The abstract will talk about the company Redbull, which is an international drink company that is widely known for its vitalizing energy drinks. These theories can help a company create marketing strategies efficiently.\n",
      "-------------------------------------------------------------------------------------------------------------------------------\n",
      "Text category: Diverse News\n",
      "-------------------------------------------------------------------------------------------------------------------------------\n"
     ]
    }
   ],
   "source": [
    "summerize_category(test_1, 10, en_random_forest_model)"
   ]
  },
  {
   "cell_type": "code",
   "execution_count": 32,
   "id": "09ea145b",
   "metadata": {},
   "outputs": [
    {
     "name": "stdout",
     "output_type": "stream",
     "text": [
      "Accuracy on test:  0.9316909294512878\n"
     ]
    }
   ],
   "source": [
    "ar_ridge_model = fit_model('ridge_model', True)\n",
    "pickle.dump(ar_ridge_model, open('ar_ridge_model.pkl','wb'))"
   ]
  },
  {
   "cell_type": "code",
   "execution_count": 33,
   "id": "c1de1673",
   "metadata": {},
   "outputs": [
    {
     "name": "stdout",
     "output_type": "stream",
     "text": [
      "Accuracy on test:  0.8656215005599104\n"
     ]
    }
   ],
   "source": [
    "ar_random_forest_model = fit_model('random_forest_model', True)\n",
    "pickle.dump(ar_random_forest_model, open('ar_random_forest_model.pkl','wb'))"
   ]
  },
  {
   "cell_type": "code",
   "execution_count": 34,
   "id": "c3873ff2",
   "metadata": {},
   "outputs": [
    {
     "name": "stdout",
     "output_type": "stream",
     "text": [
      "Accuracy on test:  0.921612541993281\n"
     ]
    }
   ],
   "source": [
    "ar_logistic_regression_model = fit_model('logistic_regression_model', True)\n",
    "pickle.dump(ar_logistic_regression_model, open('ar_logistic_regression_model.pkl','wb'))"
   ]
  },
  {
   "cell_type": "code",
   "execution_count": 35,
   "id": "3990487e",
   "metadata": {},
   "outputs": [
    {
     "name": "stdout",
     "output_type": "stream",
     "text": [
      "Accuracy on test:  0.24972004479283313\n"
     ]
    }
   ],
   "source": [
    "ar_kneighbors_model = fit_model('kneighbors_model', True)\n",
    "pickle.dump(ar_kneighbors_model, open('ar_kneighbors_model.pkl','wb'))"
   ]
  },
  {
   "cell_type": "code",
   "execution_count": 36,
   "id": "5d39e8d5",
   "metadata": {},
   "outputs": [
    {
     "name": "stdout",
     "output_type": "stream",
     "text": [
      "Accuracy on test:  0.793952967525196\n"
     ]
    }
   ],
   "source": [
    "ar_decision_tree_model = fit_model('decision_tree_model', True)\n",
    "pickle.dump(ar_decision_tree_model, open('ar_decision_tree_model.pkl','wb'))"
   ]
  },
  {
   "cell_type": "code",
   "execution_count": 37,
   "id": "93e62ab5",
   "metadata": {},
   "outputs": [
    {
     "name": "stdout",
     "output_type": "stream",
     "text": [
      "Accuracy on test:  0.8801791713325868\n"
     ]
    }
   ],
   "source": [
    "ar_gaussian_nb_model = fit_model('gaussian_nb_model', True)\n",
    "pickle.dump(ar_gaussian_nb_model, open('ar_gaussian_nb_model.pkl','wb'))"
   ]
  },
  {
   "cell_type": "code",
   "execution_count": 47,
   "id": "f9c7ce54",
   "metadata": {},
   "outputs": [],
   "source": [
    "ar_test_1 = \"مع تبوأ بيب غوارديولا دفة الإدارة الفنية لبرشلونة تغيرت أمور كثيرة في الفريق سواء بانضباط اللاعبين أو بأدائهم داخل الملعب. خلال عامه الأول مع برشلونة حقق غوارديولا ما لم يحققه أي مدرب في العالم، ففي تاريخ 2 مايو عام 2009، خاض برشلونة مبارة الكلاسيكو مع غريمه التقليدي ريال مدريد في معقل الأخير، ملعب سانتياغو برنابيو، وحقق برشلونة حينها انتصارًا مدويًا، ففاز بنتيجة 6-2. ضمنت تلك النتيجة إلى حد كبير فوز برشلونة بلقب الليغا، وبعدها بأسبوعين التقى برشلونة مع أتلتيك بلباو في نهائي كأس إسبانيا، وحقق برشلونة اللقب الذي كان غائبا عن خزائنه مدة 13 عامًا، وفي أواخر ذات الشهر حقق برشلونة لقب دوري أبطال أوروبا على حساب نادي مانشستر يونايتد الإنجليزي، وليكون ذلك اللقب الثالث للنادي بتلك البطولة. في شهر أغسطس من ذلك العام ظفر برشلونة ببطولتي كأس السوبر الإسباني على حساب أتلتيك بيلباو للمرة الثامنة بتاريخه وبطولة كأس السوبر الأوروبي على حساب نادي شاختار دونستيك الأوكراني، وفي أواخر العام ذاته شارك النادي كممثل لقارة أوروبا في بطولة كأس العالم لأندية كرة القدم محققًا لقبها لأول مرة في تاريخه بعد انتصاره في المباراة النهائية على نادي إستوديانتيس دو لا بلاتا الأرجنتيني في نهائي مثير امتد لشوطين إضافيين، ليسدل الفريق الستار عن ذلك العام الاستثنائي بإنجاز غير مسبوق، بلغ 6 ألقاب بعام واحد، ويعرف باسم السداسية التاريخية. من أهم النجوم خلال ذلك العام: ليونيل ميسي، تشافي هيرنانديز، أندريس إنيستا رغم أن الغلة خلال عام 2010 لم تكن كسابقتها إلا أن الإبداع والأداء الراقي ظل مستمرًا. أبرز ما حدث في ذلك العام من انجازات كان الظفر ببطولة الليغا للمرة العشرين بتاريخ النادي، وكأس السوبر الإسباني للمرة التاسعة، وخروج برشلونة من دوري أبطال أوروبا أمام إنتر ميلان الإيطالي من الدور نصف النهائي، وخرج كذلك مبكرًا من كأس الملك أمام نادي إشبيلية. أما على صعيد الانتقالات، فقد غادر خلال صيف ذلك العام الفرنسي تيري هنري، وسبقه في الرحيل الكميروني صامويل ايتو في صفقة مبادلة مع نادي الانتر الإيطالي أتى بموجبها اللاعب السويدي إبراهيموفيتش في صفقة تعد الأكبر بتاريخ النادي. لم يمكث ابراهيموفيتش سوى عام واحد أعير بعده إلى لنادي ميلان الإيطالي، وضُم المهاجم الإسباني دافيد فيا من نادي فالنسيا خلال صيف عام 2010. إداريًا فقد جرت انتخابات رئاسة للنادي، وصل على أثرها ساندرو روسيل لرئاسة النادي خلفًا للمحامي خوان لابورتا. في افتتاحية موسم 2010-2011 حقق النادي لقب كأس السوبر الإسباني للمرة التاسعة في تاريخه، وشهد ذات الموسم صراعًا محتدمًا بين برشلونة وغريمه ريال مدريد، ولم يقتصر هذا الصراع على بطولة الليغا، التي حافظ عليها الفريق للمرة الثالثة على التوالي والحادية والعشرين في تاريخ النادي، إذ امتد الصراع ليشمل بطولتي كأس الملك ودوري أبطال أوروبا. وصل برشلونة المباراة النهائية ببطولة كأس إسبانيا ليلتقي الريال الذي استطاع خطف هدف الفوز بالوقت الإضافي الأول، وبعد تلك المباراة بأقل من أسبوع التقى برشلونة مجددًا مع ريال مدريد في الدور نصف النهائي لبطولة دوري أبطال أوروبا واستطاع برشلونة الإطاحة بريال مدريد والوصول للمباراة النهائية بتلك البطولة، والتي جمعت برشلونة مع نادي مانشستر يونايتد الإنجليزي، على ملعب ويمبلي في العاصمة البريطانية لندن، انتصر على إثرها فريق المدرب بيب غوارديولا بنتيجة 3-1 بعد أداء خيالي لنجوم الفريق في المباراة النهائية، محققين اللقب الرابع للكتلان بتلك البطولة، ومحققين أيضًا رقما قياسيا في عدد مرات الوصول لمبارة نهائية في إطار بطولات الأندية الأوروبية. لم تتوقف إنجازات النادي خلال عام 2011 عند ذلك، ففي مستهل الموسم الكروي 2011- 2012 وتحديدًا في منتصف شهر أغسطس، فاز النادي بكأس السوبر الإسباني عندما تفوق على غريمة التقليدي فريق ريال مدريد، ولم يمض أسبوع بعد تحقيق لقب تلك البطولة حتى حقق النادي كأس السوبر الأوروبي على حساب نادي بورتو البرتغالي، لتزداد غلة النادي من الألقاب ويصبح جوسيب غوارديولا أنجح مدرب في تاريخ النادي من حيث عدد الألقاب، وفي أواخر عام 2011 شارك النادي ببطولة كأس العالم للأندية في اليابان وتمكن من الظفر بلقب تلك البطولة بعد تفوقة في المباراة النهائية على فريق سانتوس البرازيلي\""
   ]
  },
  {
   "cell_type": "code",
   "execution_count": 48,
   "id": "b909245f",
   "metadata": {},
   "outputs": [
    {
     "name": "stdout",
     "output_type": "stream",
     "text": [
      "-------------------------------------------------------------------------------------------------------------------------------\n",
      "Text summary\n",
      "-------------------------------------------------------------------------------------------------------------------------------\n",
      "لم يمكث ابراهيموفيتش سوى عام واحد أعير بعده إلى لنادي ميلان الإيطالي، وضُم المهاجم الإسباني دافيد فيا من نادي فالنسيا خلال صيف عام 2010. من أهم النجوم خلال ذلك العام: ليونيل ميسي، تشافي هيرنانديز، أندريس إنيستا رغم أن الغلة خلال عام 2010 لم تكن كسابقتها إلا أن الإبداع والأداء الراقي ظل مستمرًا. إداريًا فقد جرت انتخابات رئاسة للنادي، وصل على أثرها ساندرو روسيل لرئاسة النادي خلفًا للمحامي خوان لابورتا. مع تبوأ بيب غوارديولا دفة الإدارة الفنية لبرشلونة تغيرت أمور كثيرة في الفريق سواء بانضباط اللاعبين أو بأدائهم داخل الملعب.\n",
      "-------------------------------------------------------------------------------------------------------------------------------\n",
      "Text category: Sport\n",
      "-------------------------------------------------------------------------------------------------------------------------------\n"
     ]
    }
   ],
   "source": [
    "summerize_category(ar_test_1, 4, ar_ridge_model, True)"
   ]
  },
  {
   "cell_type": "code",
   "execution_count": null,
   "id": "058e1800",
   "metadata": {},
   "outputs": [],
   "source": []
  }
 ],
 "metadata": {
  "kernelspec": {
   "display_name": "Python 3 (ipykernel)",
   "language": "python",
   "name": "python3"
  },
  "language_info": {
   "codemirror_mode": {
    "name": "ipython",
    "version": 3
   },
   "file_extension": ".py",
   "mimetype": "text/x-python",
   "name": "python",
   "nbconvert_exporter": "python",
   "pygments_lexer": "ipython3",
   "version": "3.10.9"
  }
 },
 "nbformat": 4,
 "nbformat_minor": 5
}
